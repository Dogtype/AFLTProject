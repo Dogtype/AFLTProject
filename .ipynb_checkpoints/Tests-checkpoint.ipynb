{
 "cells": [
  {
   "cell_type": "code",
   "execution_count": 1,
   "id": "a24dd008",
   "metadata": {},
   "outputs": [],
   "source": [
    "from fgglib.fg.factorgraph import Factorgraph\n",
    "from fgglib.fg.fragment import Fragment\n",
    "from fgglib.fg.vertex import Vertex, FGVertex\n",
    "from fgglib.fg.edge import Edge, FGEdge\n",
    "from fgglib.base.semiring import *\n",
    "from fgglib.autotesting.testenvironment import *\n",
    "from fgglib.fg.functions.discretedensity import DiscreteDensity\n",
    "from fgglib.fg.functions.tropicalmul import TropicalMul"
   ]
  },
  {
   "cell_type": "code",
   "execution_count": 2,
   "id": "4fa995e2",
   "metadata": {},
   "outputs": [],
   "source": [
    "spaFG1 = buildGraph(\n",
    "    {'X1','X2','X3','X4'},\n",
    "    {'fa':{'X1','X2'},'fb':{'X2','X3'},'fc':{'X2','X4'}},\n",
    "    Real\n",
    ")"
   ]
  },
  {
   "cell_type": "code",
   "execution_count": 3,
   "id": "7d988a11",
   "metadata": {},
   "outputs": [],
   "source": [
    "spaFG1.get_vertex('X1').domain.set_content({0,1})\n",
    "spaFG1.get_vertex('X2').domain.set_content({0,1,2})\n",
    "spaFG1.get_vertex('X3').domain.set_content({0,1})\n",
    "spaFG1.get_vertex('X4').domain.set_content({0,1})\n",
    "spaFG1.set_function(spaFG1.get_edge('fa'), DiscreteDensity([[0.3, 0.2, 0.1],[0.3, 0, 0.1]]))\n",
    "spaFG1.set_function(spaFG1.get_edge('fb'), DiscreteDensity([[0.3, 0.2],[0.3, 0],[0.1, 0.1]]))\n",
    "spaFG1.set_function(spaFG1.get_edge('fc'), DiscreteDensity([[0.3, 0.2],[0.3, 0],[0.1, 0.1]]))"
   ]
  },
  {
   "cell_type": "code",
   "execution_count": 7,
   "id": "08734008",
   "metadata": {},
   "outputs": [],
   "source": [
    "spaFG1.get_vertex('X2').domain.set_content({5,6})"
   ]
  },
  {
   "cell_type": "code",
   "execution_count": null,
   "id": "d914c7df",
   "metadata": {},
   "outputs": [],
   "source": []
  }
 ],
 "metadata": {
  "kernelspec": {
   "display_name": "Python 3 (ipykernel)",
   "language": "python",
   "name": "python3"
  },
  "language_info": {
   "codemirror_mode": {
    "name": "ipython",
    "version": 3
   },
   "file_extension": ".py",
   "mimetype": "text/x-python",
   "name": "python",
   "nbconvert_exporter": "python",
   "pygments_lexer": "ipython3",
   "version": "3.9.2"
  }
 },
 "nbformat": 4,
 "nbformat_minor": 5
}
