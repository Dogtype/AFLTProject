{
 "cells": [
  {
   "cell_type": "markdown",
   "metadata": {},
   "source": [
    "# FGGLIB Introduction\n",
    "\n",
    "Factor graph grammars (FGG) are hyperedge replacement grammar that generate factor graphs.  <br>\n",
    "They overcome the limited fixed structure of factor graphs, allow tractable inferences in many cases and can be useful to represent context free grammars - especially for probabilistic context free grammar which can generate more than one parse tree.  <br>\n",
    "David Chiang et al. present factor graph grammars and algorithms for conjunction of and inference on them in their work Factor Graph Grammar.  <br>\n",
    "As part of the course project of Advanced Formal Language Theory, we have implemented the algorithms in a library called FGGLIB. \n",
    "FGGLIB is a Python library structred in a same way as the paper and includes tests on a representative set of FGG examples.\n",
    "\n",
    "### Installation\n",
    "\n",
    "To install and use this library, download the source code and run _pip install -e ._ in the top directory.  <br>\n",
    "In order to run all packages we recommend to use Python 3.10 and pip 21.\n"
   ]
  },
  {
   "cell_type": "code",
   "execution_count": 1,
   "metadata": {},
   "outputs": [],
   "source": [
    "from IPython.display import Image\n",
    "from fgglib.fg.factorgraph import Factorgraph\n",
    "from fgglib.fg.hypergraph import Hypergraph\n",
    "from fgglib.fg.vertex import Vertex\n",
    "from fgglib.fg.edge import Edge\n",
    "from fgglib.base.semiring import Real"
   ]
  },
  {
   "cell_type": "markdown",
   "metadata": {},
   "source": [
    "## Hypergraph\n",
    "\n",
    "First, we will start with building a basic hypergraph that consists of labeled vertices and edges. <br>\n",
    "As an example we create a hyperedge that has six vertices and five edges as provided below. The elements of vertices and edges can be anything. \n",
    "\n",
    " <img src=\"images/hypergraph.png\" width=\"150\"/>"
   ]
  },
  {
   "cell_type": "code",
   "execution_count": 2,
   "metadata": {},
   "outputs": [
    {
     "name": "stdout",
     "output_type": "stream",
     "text": [
      "{Vertex: v5, Vertex: v4, Vertex: v6, Vertex: v1, Vertex: v2, Vertex: v3}\n",
      "{{Edge e2: [Vertex: v2, Vertex: v3]}, {Edge e4: [Vertex: v2, Vertex: v3, Vertex: v4, Vertex: v5]}, {Edge e3: [Vertex: v1, Vertex: v3]}, {Edge e1: [Vertex: v1, Vertex: v2]}, {Edge e5: [Vertex: v3, Vertex: v5, Vertex: v6]}}\n"
     ]
    }
   ],
   "source": [
    "hypergraph = Hypergraph()\n",
    "vertex1 = Vertex('V1','v1')\n",
    "vertex2 = Vertex('V2','v2')\n",
    "vertex3 = Vertex('V3','v3')\n",
    "vertex4 = Vertex('V4','v4')\n",
    "vertex5 = Vertex('V5','v5')\n",
    "vertex6 = Vertex('V6','v6')\n",
    "\n",
    "edge1 = Edge(('V1, V2'),'e1')\n",
    "edge2 = Edge({'V2, V3'},'e2')\n",
    "edge3 = Edge({'V1, V3'},'e3')\n",
    "edge4 = Edge({'V2, V3, V4, V5'},'e4')\n",
    "edge5 = Edge({'V3', 'V5', 'V6'},'e5')\n",
    "\n",
    "hypergraph.add_vertex(vertex1)\n",
    "hypergraph.add_vertex(vertex2)\n",
    "hypergraph.add_vertex(vertex3)\n",
    "hypergraph.add_vertex(vertex4)\n",
    "hypergraph.add_vertex(vertex5)\n",
    "hypergraph.add_vertex(vertex6)\n",
    "\n",
    "hypergraph.add_edge(edge1)\n",
    "hypergraph.add_edge(edge2)\n",
    "hypergraph.add_edge(edge3)\n",
    "hypergraph.add_edge(edge4)\n",
    "hypergraph.add_edge(edge5)\n",
    "\n",
    "edge1.add_target(vertex1)\n",
    "edge1.add_target(vertex2)\n",
    "edge2.add_target(vertex2)\n",
    "edge2.add_target(vertex3)\n",
    "edge3.add_target(vertex1)\n",
    "edge3.add_target(vertex3)\n",
    "edge4.add_target(vertex2)\n",
    "edge4.add_target(vertex3)\n",
    "edge4.add_target(vertex4)\n",
    "edge4.add_target(vertex5)\n",
    "edge5.add_target(vertex3)\n",
    "edge5.add_target(vertex5)\n",
    "edge5.add_target(vertex6)\n",
    "\n",
    "print(hypergraph.V)\n",
    "print(hypergraph.E)"
   ]
  },
  {
   "cell_type": "markdown",
   "metadata": {},
   "source": [
    "## Factor Graph\n",
    "\n",
    "Factor graphs are probabilistic models which can be described as hypergraphs. They consist of variables, which are identical properties of the graph nodes and factors, a property of the hyperedges. These factors can be associated with some function and used to calculate a probability for a given variable assignment. <br>\n",
    "\n",
    "Using FGGLIB an examplary factor graph from the original paper (Example3) can be generated, where vertices are drawn in circle and edges in rectangles connecting the vertices. <br>\n",
    " <img src=\"images/fg_exp3.png\" width=\"500\"/> <br>"
   ]
  },
  {
   "cell_type": "code",
   "execution_count": 5,
   "metadata": {},
   "outputs": [],
   "source": [
    "from fgglib.fg.vertex import Vertex\n",
    "from fgglib.fg.edge import Edge\n",
    "from fgglib.autotesting.testenvironment import *\n",
    "R=Boolean\n",
    "fg = Factorgraph (R)\n",
    "vertexSet = ('T0','T1','W2','T3','W4','T5','W6','T7')\n",
    "\n",
    "fg.createVertices(None, vertexSet, R)\n",
    "\n",
    "fg.createEdge('BOS','e1', {'T0'}, None, R)\n",
    "fg.createEdge('T1|T0','e2', {'T0','T1'}, None, R)\n",
    "fg.createEdge('W2|T1','e3', {'T1','W2'}, None, R)\n",
    "fg.createEdge('T3|T1','e4', {'T1','T3'}, None, R)\n",
    "fg.createEdge('W4|T3','e5', {'T3','W4'}, None, R)\n",
    "fg.createEdge('T5|T3','e6', {'T3','T5'}, None, R)\n",
    "fg.createEdge('W6|T5','e7', {'T5','W6'}, None, R)\n",
    "fg.createEdge('T7|T5','e8', {'T5','T7'}, None, R)\n",
    "\n",
    "fg.draw()\n",
    "\n",
    "\n"
   ]
  },
  {
   "cell_type": "markdown",
   "metadata": {},
   "source": [
    " <img src=\"graph.png\" width=\"200\"/> <br>"
   ]
  },
  {
   "cell_type": "markdown",
   "metadata": {},
   "source": [
    "FGGLIB also enables usage of different semirings. As of now, semirings presented in the lecture are provided. <br>\n",
    "For simplicity, the same notation was used.\n",
    "\n",
    "ADD ASSIGNMENT"
   ]
  },
  {
   "cell_type": "markdown",
   "metadata": {},
   "source": [
    "Factor Graph Grammars"
   ]
  }
 ],
 "metadata": {
  "kernelspec": {
   "display_name": "Python 3.10.5 64-bit",
   "language": "python",
   "name": "python3"
  },
  "language_info": {
   "codemirror_mode": {
    "name": "ipython",
    "version": 3
   },
   "file_extension": ".py",
   "mimetype": "text/x-python",
   "name": "python",
   "nbconvert_exporter": "python",
   "pygments_lexer": "ipython3",
   "version": "3.10.5"
  },
  "orig_nbformat": 4,
  "vscode": {
   "interpreter": {
    "hash": "9d33e85d1e5722308f34e38028c08c259fb70020da3ada642bda3a3c28f02412"
   }
  }
 },
 "nbformat": 4,
 "nbformat_minor": 2
}
