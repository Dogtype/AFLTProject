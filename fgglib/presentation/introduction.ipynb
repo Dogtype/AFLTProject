{
 "cells": [
  {
   "cell_type": "markdown",
   "metadata": {},
   "source": [
    "# FGGLIB Introduction\n",
    "\n",
    "Factor graph grammars (FGG) are hyperedge replacement grammar that generate factor graphs.  <br>\n",
    "They overcome the limitation that factor graphs have fixed structures, allow tractable inferences in many cases and can be useful to represent context free grammars - especially for probabilistic context free grammar which can generate more than one parse tree.  <br>\n",
    "<br>\n",
    "David Chiang et al. present factor graph grammars and algorithms for conjunction of and inference on them in their work Factor Graph Grammar.  <br>\n",
    "As part of the course project of Advanced Formal Language Theory, we have implemented the algorithms in a library called FGGLIB. <br>\n",
    "FGGLIB is a Python library structred in a same way as the paper and includes tests on a representative set of FGG examples.\n",
    "\n",
    "***\n",
    "\n",
    "### Installation\n",
    "\n",
    "To install and use this library, download the source code and run _pip install -e ._ in the top directory.  <br>\n",
    "In order to run all packages we recommend to use Python 3.10 and pip 21.\n"
   ]
  },
  {
   "cell_type": "code",
   "execution_count": 12,
   "metadata": {},
   "outputs": [],
   "source": [
    "from IPython.display import Image\n",
    "\n",
    "from fgglib.presentation.visualization import Visualization\n",
    "from fgglib.fg.functions.circuit import *\n",
    "from fgglib.fg.functions.discretedensity import DiscreteDensity\n",
    "\n"
   ]
  },
  {
   "cell_type": "markdown",
   "metadata": {},
   "source": [
    "## Hypergraph\n",
    "\n",
    "First, we will start with building a basic hypergraph that consists of labeled vertices and edges. <br>\n",
    "As an example from <a href=\"https://upload.wikimedia.org/wikipedia/commons/thumb/2/2f/Directed_hypergraph_example.svg/330px-Directed_hypergraph_example.svg.png\">Wikipedia</a> we create a hyperedge that has six vertices and five edges as provided below. The elements of vertices and edges can be anything. \n",
    "\n",
    "<img src=\"hypergraph.png\" width=\"130\"/> <br>"
   ]
  },
  {
   "cell_type": "code",
   "execution_count": 13,
   "metadata": {},
   "outputs": [
    {
     "name": "stdout",
     "output_type": "stream",
     "text": [
      "{Vertex: v5, Vertex: v1, Vertex: v3, Vertex: v2, Vertex: v6, Vertex: v4}\n",
      "{Edge e5: [Vertex: v3, Vertex: v5, Vertex: v6], Edge e3: [Vertex: v1, Vertex: v3], Edge e4: [Vertex: v2, Vertex: v3, Vertex: v4, Vertex: v5], Edge e1: [Vertex: v1, Vertex: v2], Edge e2: [Vertex: v2, Vertex: v3]}\n"
     ]
    }
   ],
   "source": [
    "from fgglib.fg.hypergraph import Hypergraph\n",
    "from fgglib.fg.vertex import Vertex\n",
    "from fgglib.fg.edge import Edge\n",
    "\n",
    "hypergraph = Hypergraph()\n",
    "vertex1 = Vertex('V1','v1')\n",
    "vertex2 = Vertex('V2','v2')\n",
    "vertex3 = Vertex('V3','v3')\n",
    "vertex4 = Vertex('V4','v4')\n",
    "vertex5 = Vertex('V5','v5')\n",
    "vertex6 = Vertex('V6','v6')\n",
    "\n",
    "edge1 = Edge(('V1, V2'),'e1')\n",
    "edge2 = Edge({'V2, V3'},'e2')\n",
    "edge3 = Edge({'V1, V3'},'e3')\n",
    "edge4 = Edge({'V2, V3, V4, V5'},'e4')\n",
    "edge5 = Edge({'V3', 'V5', 'V6'},'e5')\n",
    "\n",
    "hypergraph.add_vertex(vertex1)\n",
    "hypergraph.add_vertex(vertex2)\n",
    "hypergraph.add_vertex(vertex3)\n",
    "hypergraph.add_vertex(vertex4)\n",
    "hypergraph.add_vertex(vertex5)\n",
    "hypergraph.add_vertex(vertex6)\n",
    "\n",
    "hypergraph.add_edge(edge1)\n",
    "hypergraph.add_edge(edge2)\n",
    "hypergraph.add_edge(edge3)\n",
    "hypergraph.add_edge(edge4)\n",
    "hypergraph.add_edge(edge5)\n",
    "\n",
    "edge1.add_target(vertex1)\n",
    "edge1.add_target(vertex2)\n",
    "edge2.add_target(vertex2)\n",
    "edge2.add_target(vertex3)\n",
    "edge3.add_target(vertex1)\n",
    "edge3.add_target(vertex3)\n",
    "edge4.add_target(vertex2)\n",
    "edge4.add_target(vertex3)\n",
    "edge4.add_target(vertex4)\n",
    "edge4.add_target(vertex5)\n",
    "edge5.add_target(vertex3)\n",
    "edge5.add_target(vertex5)\n",
    "edge5.add_target(vertex6)\n",
    "\n",
    "print(hypergraph.V)\n",
    "print(hypergraph.E)"
   ]
  },
  {
   "cell_type": "markdown",
   "metadata": {},
   "source": [
    "## Factor Graph\n",
    "\n",
    "Factor graphs are probabilistic models which can be described as hypergraphs. They consist of variables, which are identical properties of the graph nodes and factors, a property of the hyperedges. These factors can be associated with some function and used to calculate a probability for a given variable assignment. <br>\n",
    "FGGLIB also enables usage of different semirings which is part of rayuela library. For simplicity, the same notation was used.<br>\n",
    "<br>\n",
    "Using FGGLIB an examplary factor graph from the original paper (Example3) can be generated, where vertices are drawn in circle and edges in rectangles connecting the vertices. <br> <br>\n",
    " <img src=\"fg_exp3.png\" width=\"450\"/> <br>"
   ]
  },
  {
   "cell_type": "code",
   "execution_count": 14,
   "metadata": {},
   "outputs": [],
   "source": [
    "from fgglib.fg.factorgraph import Factorgraph\n",
    "from fgglib.base.semiring import Real\n",
    "\n",
    "fg = Factorgraph(Real)\n",
    "vertexSet = ('T0','T1','W2','T3','W4','T5','W6','T7')\n",
    "\n",
    "fg.createVertices(None, vertexSet, Real)\n",
    "\n",
    "fg.createEdge('BOS','e1', {'T0'}, None, Real)\n",
    "fg.createEdge('T1|T0','e2', {'T0','T1'}, None, Real)\n",
    "fg.createEdge('W2|T1','e3', {'T1','W2'}, None, Real)\n",
    "fg.createEdge('T3|T1','e4', {'T1','T3'}, None, Real)\n",
    "fg.createEdge('W4|T3','e5', {'T3','W4'}, None, Real)\n",
    "fg.createEdge('T5|T3','e6', {'T3','T5'}, None, Real)\n",
    "fg.createEdge('W6|T5','e7', {'T5','W6'}, None, Real)\n",
    "fg.createEdge('T7|T5','e8', {'T5','T7'}, None, Real)\n",
    "fg.set_function(fg.get_edge('e1'), DiscreteDensity([[3, 4],[3,9]]))\n",
    "fg.set_function(fg.get_edge('e2'), DiscreteDensity([[6, 7],[7,6]]))\n",
    "fg.set_function(fg.get_edge('e3'), DiscreteDensity([[3, 4],[5,1]]))\n",
    "fg.set_function(fg.get_edge('e4'), DiscreteDensity([[7, 8],[3,7]]))\n",
    "fg.set_function(fg.get_edge('e5'), DiscreteDensity([[5, 2],[4,9]]))\n",
    "fg.set_function(fg.get_edge('e6'), DiscreteDensity([[8, 1],[3,1]]))\n",
    "fg.set_function(fg.get_edge('e7'), DiscreteDensity([[1, 1],[6,8]]))\n",
    "fg.set_function(fg.get_edge('e8'), DiscreteDensity([[2, 9],[4,3]]))\n",
    "\n",
    "\n",
    "Visualization().draw(fg)"
   ]
  },
  {
   "cell_type": "markdown",
   "metadata": {},
   "source": [
    " <img src=\"../../Graph.png\" width=\"200\"/> <br>"
   ]
  },
  {
   "cell_type": "markdown",
   "metadata": {},
   "source": [
    "***\n",
    "A factor graph has a function F that maps edge labels to functions. <br>\n",
    "FGGLIB provides three different function types: circuit, discrete density and normal density functions. <br>\n",
    "Below we use discrete density with numerical values to draw a factor graph alculate marginals."
   ]
  },
  {
   "cell_type": "code",
   "execution_count": 15,
   "metadata": {},
   "outputs": [
    {
     "name": "stdout",
     "output_type": "stream",
     "text": [
      "[0.26834413 0.73165587]\n"
     ]
    }
   ],
   "source": [
    "fg.set_function(fg.get_edge('e1'), DiscreteDensity([[3, 4],[3,9]]))\n",
    "fg.set_function(fg.get_edge('e2'), DiscreteDensity([[6, 7],[7,6]]))\n",
    "fg.set_function(fg.get_edge('e3'), DiscreteDensity([[3, 4],[5,1]]))\n",
    "fg.set_function(fg.get_edge('e4'), DiscreteDensity([[7, 8],[3,7]]))\n",
    "fg.set_function(fg.get_edge('e5'), DiscreteDensity([[5, 2],[4,9]]))\n",
    "fg.set_function(fg.get_edge('e6'), DiscreteDensity([[8, 1],[3,1]]))\n",
    "fg.set_function(fg.get_edge('e7'), DiscreteDensity([[1, 1],[6,8]]))\n",
    "fg.set_function(fg.get_edge('e8'), DiscreteDensity([[2, 9],[4,3]]))\n",
    "\n",
    "marginals = fg.sum_product()\n",
    "print(marginals[fg.get_vertex('T1')].normalize().pmf)"
   ]
  },
  {
   "cell_type": "markdown",
   "metadata": {},
   "source": [
    "## Factor Graph Grammars\n",
    "\n",
    "Factor Graph Grammar (FGG) is a hyperedge replacement graph grammar that generates factor graphs. Hyperedge replacement grammars behave very similarly to context-free grammars, but their productions replace hyperedges of the graph with specific subgraphs. This way, a graph of any arbitrary size can be constructed. <br>\n",
    "FGG is a 4-Tuple <T,N,S,P> where:\n",
    "- N is a finite set of nonterminal symbols\n",
    "- T is a finite set of terminal symbols (corresponds to factor graph fragments in our library)\n",
    "- P is a finite set of production rules of the form (X -> R), where X is an element of nonterminal N and R is a factor graph fragment with edge labels in N ∪ T. \n",
    "- S is a string (or label) for the starting nonterminal.\n",
    "\n",
    "Let us create an FGG for derivations of a CFG in Chomsky Normal Form which was presented in lecture note 6.\n",
    "- Nominal → Det NP\n",
    "- NP → Adj NP\n",
    "- Det → the\n",
    "- N → male\n",
    "- Adj → big\n",
    "\n",
    "Every right-hand side of production rule is a factor graph with the corresponding edge labels.\n",
    "\n",
    "\n"
   ]
  },
  {
   "cell_type": "code",
   "execution_count": 16,
   "metadata": {},
   "outputs": [],
   "source": [
    "from fgglib.fgg.fgg import FGG\n",
    "from fgglib.fgg.production import Production\n",
    "from fgglib.fg.fragment import Fragment\n",
    "frag=Fragment()\n",
    "\n",
    "nominal = frag.buildFragment(\n",
    "    {'NOM','DET', 'NP'}, # V\n",
    "    [('NOMINAL_', {'NOM','DET', 'NP'})], # E\n",
    "    {'DET', 'NP'}, # ext\n",
    ")\n",
    "\n",
    "determinant = frag.buildFragment(\n",
    "    {'DET', 'the'}, # V\n",
    "    [('DET_', {'DET','the'})], # E\n",
    "    {'the'}, # ext\n",
    ")\n",
    "\n",
    "nounphrase = frag.buildFragment(\n",
    "    {'NP', 'ADJ', 'N'}, # V\n",
    "    [('NP_', {'NP', 'ADJ','N'})], # E\n",
    "    {'ADJ','NP'}, # ext\n",
    ")\n",
    "\n",
    "adj = frag.buildFragment(\n",
    "     {'ADJ', 'big'}, # V\n",
    "    [('ADJ_', {'ADJ','big'})], # E\n",
    "    {'big'}, # ext\n",
    ")\n",
    "\n",
    "noun = frag.buildFragment(\n",
    "    {'N', 'man'}, # V\n",
    "    [('N_', {'N','man'})], # E\n",
    "    {'man'}, # ext\n",
    ")\n",
    "\n",
    "derivationtree = FGG({nominal,determinant, nounphrase, adj, noun}, # T\n",
    "    {'NOMINAL','DET', 'NP', 'ADJ', 'N'}, # N\n",
    "    {'NOMINAL'}, # S\n",
    "    {Production('S', nominal),\n",
    "     Production('Det', determinant),\n",
    "     Production('NP', nounphrase),\n",
    "     Production('Adj', adj),\n",
    "     Production('N', noun)} # P\n",
    ")\n",
    "\n",
    "Visualization().draw(derivationtree)"
   ]
  },
  {
   "cell_type": "markdown",
   "metadata": {},
   "source": [
    " <img src=\"../../FGG.png\" width=\"200\"/> <br>"
   ]
  },
  {
   "cell_type": "markdown",
   "metadata": {},
   "source": [
    "## Conjunction\n",
    "\n",
    "Conjunction is used to calculate the marginal distribution of a subset of nodes without having to identify the node in the grammar explicitly, instead it uses the structure of the graph. <br>\n",
    "Using the example of \"the big male\" from the previous part: \"derivationtree\" and \"noun\" are conjoined in order to calculate the marginal distribution of the noun \"male\". As a result of conjunction a new FGG is returned with conjoined pairs of rules."
   ]
  },
  {
   "cell_type": "code",
   "execution_count": 17,
   "metadata": {},
   "outputs": [
    {
     "name": "stdout",
     "output_type": "stream",
     "text": [
      "start: {'NOMINAL'}\n",
      "('N', 'X') → [Graph: {Vertex: N, Vertex: man} | {Edge N_: [Vertex: N, Vertex: man]}]\n",
      "\n"
     ]
    }
   ],
   "source": [
    "#We create noun factor graph grammar from the fraction\n",
    "#declared in the previous example.\n",
    "\n",
    "nounFGG = FGG(\n",
    "    {noun}, # T\n",
    "    {'X'}, # N\n",
    "    'S', # S\n",
    "    {Production('X',noun)} # P\n",
    ")\n",
    "\n",
    "conjoined = derivationtree.conjunction(nounFGG)\n",
    "\n",
    "Visualization().draw(conjoined)\n",
    "print(conjoined)\n"
   ]
  },
  {
   "cell_type": "markdown",
   "metadata": {},
   "source": [
    " <img src=\"../../FGG.png\" width=\"200\"/> <br>"
   ]
  },
  {
   "cell_type": "markdown",
   "metadata": {},
   "source": [
    "***\n",
    "## Inference"
   ]
  }
 ],
 "metadata": {
  "kernelspec": {
   "display_name": "Python 3.10.5 64-bit",
   "language": "python",
   "name": "python3"
  },
  "language_info": {
   "codemirror_mode": {
    "name": "ipython",
    "version": 3
   },
   "file_extension": ".py",
   "mimetype": "text/x-python",
   "name": "python",
   "nbconvert_exporter": "python",
   "pygments_lexer": "ipython3",
   "version": "3.10.5"
  },
  "orig_nbformat": 4,
  "vscode": {
   "interpreter": {
    "hash": "9d33e85d1e5722308f34e38028c08c259fb70020da3ada642bda3a3c28f02412"
   }
  }
 },
 "nbformat": 4,
 "nbformat_minor": 2
}
