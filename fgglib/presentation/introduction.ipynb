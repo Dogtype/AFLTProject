{
 "cells": [
  {
   "cell_type": "markdown",
   "metadata": {},
   "source": [
    "# FGGLIB Introduction\n",
    "\n",
    "Factor graph grammars (FGG) are hyperedge replacement grammar that generate factor graphs.  <br>\n",
    "They overcome the limited fixed structure of factor graphs, allow tractable inferences in many cases and can be useful to represent context free grammars - especially for probabilistic context free grammar which can generate more than one parse tree.  <br>\n",
    "David Chiang et al. present factor graph grammars and algorithms for conjunction of and inference on them in their work Factor Graph Grammar.  <br>\n",
    "As part of the course project of Advanced Formal Language Theory, we have implemented the algorithms in a library called FGGLIB. \n",
    "FGGLIB is a Python library structred in a same way as the paper and includes tests on a representative set of FGG examples.\n",
    "\n",
    "### Installation\n",
    "\n",
    "To install and use this library, download the source code and run _pip install -e ._ in the top directory.  <br>\n",
    "In order to run all packages we recommend to use Python 3.10 and pip 21.\n"
   ]
  },
  {
   "cell_type": "code",
   "execution_count": 1,
   "metadata": {},
   "outputs": [],
   "source": [
    "from IPython.display import Image\n",
    "from fgglib.fg.factorgraph import Factorgraph\n",
    "from fgglib.fg.hypergraph import Hypergraph\n",
    "from fgglib.fg.vertex import Vertex\n",
    "from fgglib.fg.edge import Edge\n",
    "from fgglib.base.semiring import Real\n",
    "from fgglib.fg.functions.circuit import *\n",
    "from fgglib.fg.functions.discretedensity import DiscreteDensity"
   ]
  },
  {
   "cell_type": "markdown",
   "metadata": {},
   "source": [
    "## Hypergraph\n",
    "\n",
    "First, we will start with building a basic hypergraph that consists of labeled vertices and edges. <br>\n",
    "As an example we create a hyperedge that has six vertices and five edges as provided below. The elements of vertices and edges can be anything. \n",
    "\n",
    " <img src=\"fgglib/presentation/images/hypergraph.png\" width=\"150\"/>"
   ]
  },
  {
   "cell_type": "code",
   "execution_count": 2,
   "metadata": {},
   "outputs": [
    {
     "name": "stdout",
     "output_type": "stream",
     "text": [
      "{Vertex: v1, Vertex: v6, Vertex: v4, Vertex: v3, Vertex: v2, Vertex: v5}\n",
      "{{Edge e2: [Vertex: v2, Vertex: v3]}, {Edge e4: [Vertex: v2, Vertex: v3, Vertex: v4, Vertex: v5]}, {Edge e1: [Vertex: v1, Vertex: v2]}, {Edge e3: [Vertex: v1, Vertex: v3]}, {Edge e5: [Vertex: v3, Vertex: v5, Vertex: v6]}}\n"
     ]
    }
   ],
   "source": [
    "hypergraph = Hypergraph()\n",
    "vertex1 = Vertex('V1','v1')\n",
    "vertex2 = Vertex('V2','v2')\n",
    "vertex3 = Vertex('V3','v3')\n",
    "vertex4 = Vertex('V4','v4')\n",
    "vertex5 = Vertex('V5','v5')\n",
    "vertex6 = Vertex('V6','v6')\n",
    "\n",
    "edge1 = Edge(('V1, V2'),'e1')\n",
    "edge2 = Edge({'V2, V3'},'e2')\n",
    "edge3 = Edge({'V1, V3'},'e3')\n",
    "edge4 = Edge({'V2, V3, V4, V5'},'e4')\n",
    "edge5 = Edge({'V3', 'V5', 'V6'},'e5')\n",
    "\n",
    "hypergraph.add_vertex(vertex1)\n",
    "hypergraph.add_vertex(vertex2)\n",
    "hypergraph.add_vertex(vertex3)\n",
    "hypergraph.add_vertex(vertex4)\n",
    "hypergraph.add_vertex(vertex5)\n",
    "hypergraph.add_vertex(vertex6)\n",
    "\n",
    "hypergraph.add_edge(edge1)\n",
    "hypergraph.add_edge(edge2)\n",
    "hypergraph.add_edge(edge3)\n",
    "hypergraph.add_edge(edge4)\n",
    "hypergraph.add_edge(edge5)\n",
    "\n",
    "edge1.add_target(vertex1)\n",
    "edge1.add_target(vertex2)\n",
    "edge2.add_target(vertex2)\n",
    "edge2.add_target(vertex3)\n",
    "edge3.add_target(vertex1)\n",
    "edge3.add_target(vertex3)\n",
    "edge4.add_target(vertex2)\n",
    "edge4.add_target(vertex3)\n",
    "edge4.add_target(vertex4)\n",
    "edge4.add_target(vertex5)\n",
    "edge5.add_target(vertex3)\n",
    "edge5.add_target(vertex5)\n",
    "edge5.add_target(vertex6)\n",
    "\n",
    "print(hypergraph.V)\n",
    "print(hypergraph.E)"
   ]
  },
  {
   "cell_type": "markdown",
   "metadata": {},
   "source": [
    "## Factor Graph\n",
    "\n",
    "Factor graphs are probabilistic models which can be described as hypergraphs. They consist of variables, which are identical properties of the graph nodes and factors, a property of the hyperedges. These factors can be associated with some function and used to calculate a probability for a given variable assignment. <br>\n",
    "FGGLIB also enables usage of different semirings which is part of rayuela library. For simplicity, the same notation was used.<br>\n",
    "<br>\n",
    "Using FGGLIB an examplary factor graph from the original paper (Example3) can be generated, where vertices are drawn in circle and edges in rectangles connecting the vertices. <br>\n",
    " <img src=\"images/fg_exp3.png\" width=\"500\"/> <br>"
   ]
  },
  {
   "cell_type": "code",
   "execution_count": 3,
   "metadata": {},
   "outputs": [],
   "source": [
    "fg = Factorgraph(Real)\n",
    "vertexSet = ('T0','T1','W2','T3','W4','T5','W6','T7')\n",
    "\n",
    "fg.createVertices(None, vertexSet, Real)\n",
    "\n",
    "fg.createEdge('BOS','e1', {'T0'}, None, Real)\n",
    "fg.createEdge('T1|T0','e2', {'T0','T1'}, None, Real)\n",
    "fg.createEdge('W2|T1','e3', {'T1','W2'}, None, Real)\n",
    "fg.createEdge('T3|T1','e4', {'T1','T3'}, None, Real)\n",
    "fg.createEdge('W4|T3','e5', {'T3','W4'}, None, Real)\n",
    "fg.createEdge('T5|T3','e6', {'T3','T5'}, None, Real)\n",
    "fg.createEdge('W6|T5','e7', {'T5','W6'}, None, Real)\n",
    "fg.createEdge('T7|T5','e8', {'T5','T7'}, None, Real)\n",
    "fg.set_function(fg.get_edge('e1'), DiscreteDensity([[3, 4],[3,9]]))\n",
    "fg.set_function(fg.get_edge('e2'), DiscreteDensity([[6, 7],[7,6]]))\n",
    "fg.set_function(fg.get_edge('e3'), DiscreteDensity([[3, 4],[5,1]]))\n",
    "fg.set_function(fg.get_edge('e4'), DiscreteDensity([[7, 8],[3,7]]))\n",
    "fg.set_function(fg.get_edge('e5'), DiscreteDensity([[5, 2],[4,9]]))\n",
    "fg.set_function(fg.get_edge('e6'), DiscreteDensity([[8, 1],[3,1]]))\n",
    "fg.set_function(fg.get_edge('e7'), DiscreteDensity([[1, 1],[6,8]]))\n",
    "fg.set_function(fg.get_edge('e8'), DiscreteDensity([[2, 9],[4,3]]))\n",
    "\n",
    "fg.draw()"
   ]
  },
  {
   "cell_type": "markdown",
   "metadata": {},
   "source": [
    "A factor graph has a function F that maps edge labels to functions. <br>\n",
    "FGGLIB provides three different function types: circuit, discrete density and normal density functions. <br>\n",
    "Below we use discrete density with numerical values to draw a factor graph alculate marginals."
   ]
  },
  {
   "cell_type": "code",
   "execution_count": 4,
   "metadata": {},
   "outputs": [
    {
     "name": "stdout",
     "output_type": "stream",
     "text": [
      "[0.47093023 0.52906977]\n"
     ]
    }
   ],
   "source": [
    "fg.set_function(fg.get_edge('e1'), DiscreteDensity([[3, 4],[3,9]]))\n",
    "fg.set_function(fg.get_edge('e2'), DiscreteDensity([[6, 7],[7,6]]))\n",
    "fg.set_function(fg.get_edge('e3'), DiscreteDensity([[3, 4],[5,1]]))\n",
    "fg.set_function(fg.get_edge('e4'), DiscreteDensity([[7, 8],[3,7]]))\n",
    "fg.set_function(fg.get_edge('e5'), DiscreteDensity([[5, 2],[4,9]]))\n",
    "fg.set_function(fg.get_edge('e6'), DiscreteDensity([[8, 1],[3,1]]))\n",
    "fg.set_function(fg.get_edge('e7'), DiscreteDensity([[1, 1],[6,8]]))\n",
    "fg.set_function(fg.get_edge('e8'), DiscreteDensity([[2, 9],[4,3]]))\n",
    "\n",
    "fg.draw()\n",
    "marginals = fg.sum_product()\n",
    "print(marginals[fg.get_vertex('T1')].normalize().pmf)"
   ]
  },
  {
   "cell_type": "markdown",
   "metadata": {},
   "source": [
    " <img src=\"graph.png\" width=\"200\"/> <br>"
   ]
  },
  {
   "cell_type": "markdown",
   "metadata": {},
   "source": [
    "## Factor Graph Grammars\n",
    "\n",
    "Factor Graph Grammar (FGG) is a hyperedge replacement graph grammar that generates factor graphs. Hyperedge replacement grammars behave very similarly to context-free grammars, but their productions replace hyperedges of the graph with specific subgraphs. This way, a graph of any arbitrary size can be constructed. <br>\n",
    "FGG is a 4-Tuple <T,N,S,P> where:\n",
    "- N is a finite set of nonterminal symbols\n",
    "- T is a finite set of terminal symbols (corresponds to factor graph fragments in our library)\n",
    "- P is a finite set of production rules of the form (X -> R), where X is an element of nonterminal N and R is a factor graph fragment with edge labels in N ∪ T. \n",
    "- S is a string (or label) for the starting nonterminal.\n",
    "\n",
    "Let us create an FGG for derivations of a CFG in Chomsky Normal Form which was presented in lecture note 6.\n",
    "- Nominal → Det NP\n",
    "- NP → Adj NP\n",
    "- Det → the\n",
    "- N → male\n",
    "- Adj → big\n",
    "\n",
    "Every right-hand side of production rule is a factor graph with the corresponding edge labels.\n",
    "\n",
    "\n"
   ]
  },
  {
   "cell_type": "code",
   "execution_count": 5,
   "metadata": {},
   "outputs": [],
   "source": [
    "from fgglib.fgg.fgg import FGG\n",
    "from fgglib.fgg.production import Production\n",
    "from fgglib.fg.fragment import Fragment\n",
    "frag=Fragment()\n",
    "\n",
    "nominal = frag.buildFragment(\n",
    "    {'NOM','EXT0'}, # V\n",
    "    [('NOMINAL_', {'NOM','EXT0'})], # E\n",
    "    {'EXT0'}, # ext\n",
    ")\n",
    "\n",
    "determinant = frag.buildFragment(\n",
    "    {'DET', 'the'}, # V\n",
    "    [('DET_', {'DET','the'})], # E\n",
    "    {'the'}, # ext\n",
    ")\n",
    "\n",
    "nounphrase = frag.buildFragment(\n",
    "    {'NP', 'childADJ', 'childNP'}, # V\n",
    "    [('NP_', {'NP', 'childADJ','childNP'})], # E\n",
    "    {'childADJ','childNP'}, # ext\n",
    ")\n",
    "\n",
    "adj = frag.buildFragment(\n",
    "     {'ADJ', 'big'}, # V\n",
    "    [('ADJ_', {'ADJ','big'})], # E\n",
    "    {'big'}, # ext\n",
    ")\n",
    "\n",
    "noun = frag.buildFragment(\n",
    "    {'N', 'man'}, # V\n",
    "    [('N_', {'N','man'})], # E\n",
    "    {'man'}, # ext\n",
    ")\n",
    "\n",
    "fgg = FGG({nominal,determinant, nounphrase, adj, noun}, # T\n",
    "    {'NOMINAL','DET', 'NP', 'ADJ', 'N'}, # N\n",
    "    {'NOMINAL'}, # S\n",
    "    {Production('S', nominal),\n",
    "     Production('Det', determinant),\n",
    "     Production('NP', nounphrase),\n",
    "     Production('Adj', adj),\n",
    "     Production('N', noun)} # P\n",
    ")\n",
    "\n",
    "fgg.draw()"
   ]
  },
  {
   "cell_type": "code",
   "execution_count": 18,
   "metadata": {},
   "outputs": [
    {
     "name": "stdout",
     "output_type": "stream",
     "text": [
      "<class 'fgglib.fg.factorgraph.Factorgraph'>\n"
     ]
    }
   ],
   "source": [
    "from fgglib.fg.factorgraph import *\n",
    "from fgglib.base.semiring import Real\n",
    "\n",
    "hmmFG = buildGraph(\n",
    "    {'T0','T1','W2','T3','W4','T5','W6','T7'}, \n",
    "    {'e0':{'T0'},'e1':{'T0','T1'},'e2':{'T1','W2'},'e3':{'T1','T3'},'e4':{'T3','W4'},'e5':{'T3','T5'},\n",
    "     'e6':{'T5','W6'},'e7':{'T5','T7'},'e8':{'T7'}}, \n",
    "    Real # R\n",
    "    )\n",
    "\n",
    "print(type(hmmFG))\n"
   ]
  },
  {
   "cell_type": "code",
   "execution_count": 17,
   "metadata": {},
   "outputs": [
    {
     "ename": "NameError",
     "evalue": "name 'createEdge' is not defined",
     "output_type": "error",
     "traceback": [
      "\u001b[1;31m---------------------------------------------------------------------------\u001b[0m",
      "\u001b[1;31mNameError\u001b[0m                                 Traceback (most recent call last)",
      "\u001b[1;32mc:\\Users\\joohe\\OneDrive\\Documents\\CAS\\AFLT\\Project\\AFLTProject\\fgglib\\presentation\\introduction.ipynb Cell 13\u001b[0m in \u001b[0;36m<cell line: 2>\u001b[1;34m()\u001b[0m\n\u001b[0;32m      <a href='vscode-notebook-cell:/c%3A/Users/joohe/OneDrive/Documents/CAS/AFLT/Project/AFLTProject/fgglib/presentation/introduction.ipynb#ch0000016?line=0'>1</a>\u001b[0m \u001b[39mfrom\u001b[39;00m \u001b[39mfgglib\u001b[39;00m\u001b[39m.\u001b[39;00m\u001b[39mfg\u001b[39;00m\u001b[39m.\u001b[39;00m\u001b[39mfragment\u001b[39;00m \u001b[39mimport\u001b[39;00m Fragment\n\u001b[1;32m----> <a href='vscode-notebook-cell:/c%3A/Users/joohe/OneDrive/Documents/CAS/AFLT/Project/AFLTProject/fgglib/presentation/introduction.ipynb#ch0000016?line=1'>2</a>\u001b[0m nounphrase \u001b[39m=\u001b[39m Fragment()\u001b[39m.\u001b[39;49mbuildFragment(\n\u001b[0;32m      <a href='vscode-notebook-cell:/c%3A/Users/joohe/OneDrive/Documents/CAS/AFLT/Project/AFLTProject/fgglib/presentation/introduction.ipynb#ch0000016?line=2'>3</a>\u001b[0m     {\u001b[39m'\u001b[39;49m\u001b[39mNP\u001b[39;49m\u001b[39m'\u001b[39;49m, \u001b[39m'\u001b[39;49m\u001b[39mchildADJ\u001b[39;49m\u001b[39m'\u001b[39;49m, \u001b[39m'\u001b[39;49m\u001b[39mchildNP\u001b[39;49m\u001b[39m'\u001b[39;49m}, \u001b[39m# V\u001b[39;49;00m\n\u001b[0;32m      <a href='vscode-notebook-cell:/c%3A/Users/joohe/OneDrive/Documents/CAS/AFLT/Project/AFLTProject/fgglib/presentation/introduction.ipynb#ch0000016?line=3'>4</a>\u001b[0m     [(\u001b[39m'\u001b[39;49m\u001b[39mNP_\u001b[39;49m\u001b[39m'\u001b[39;49m, {\u001b[39m'\u001b[39;49m\u001b[39mNP\u001b[39;49m\u001b[39m'\u001b[39;49m, \u001b[39m'\u001b[39;49m\u001b[39mchildADJ\u001b[39;49m\u001b[39m'\u001b[39;49m,\u001b[39m'\u001b[39;49m\u001b[39mchildNP\u001b[39;49m\u001b[39m'\u001b[39;49m})], \u001b[39m# E\u001b[39;49;00m\n\u001b[0;32m      <a href='vscode-notebook-cell:/c%3A/Users/joohe/OneDrive/Documents/CAS/AFLT/Project/AFLTProject/fgglib/presentation/introduction.ipynb#ch0000016?line=4'>5</a>\u001b[0m     {\u001b[39m'\u001b[39;49m\u001b[39mchildADJ\u001b[39;49m\u001b[39m'\u001b[39;49m,\u001b[39m'\u001b[39;49m\u001b[39mchildNP\u001b[39;49m\u001b[39m'\u001b[39;49m}, \u001b[39m# ext\u001b[39;49;00m\n\u001b[0;32m      <a href='vscode-notebook-cell:/c%3A/Users/joohe/OneDrive/Documents/CAS/AFLT/Project/AFLTProject/fgglib/presentation/introduction.ipynb#ch0000016?line=5'>6</a>\u001b[0m )\n",
      "File \u001b[1;32mc:\\Users\\joohe\\OneDrive\\Documents\\CAS\\AFLT\\Project\\AFLTProject\\fgglib\\fg\\fragment.py:43\u001b[0m, in \u001b[0;36mFragment.buildFragment\u001b[1;34m(self, V, E, ext)\u001b[0m\n\u001b[0;32m     41\u001b[0m     s \u001b[39m=\u001b[39m tup[\u001b[39m1\u001b[39m]\n\u001b[0;32m     42\u001b[0m     vs \u001b[39m=\u001b[39m {vertexDict[i] \u001b[39mfor\u001b[39;00m i \u001b[39min\u001b[39;00m s}\n\u001b[1;32m---> 43\u001b[0m     edgeSet\u001b[39m.\u001b[39madd(\u001b[39mself\u001b[39m\u001b[39m.\u001b[39mcreateEdge(\u001b[39mNone\u001b[39;00m,l,vs))\n\u001b[0;32m     44\u001b[0m external \u001b[39m=\u001b[39m {vertexDict[e] \u001b[39mfor\u001b[39;00m e \u001b[39min\u001b[39;00m ext}\n\u001b[0;32m     45\u001b[0m \u001b[39mreturn\u001b[39;00m \u001b[39mself\u001b[39m\u001b[39m.\u001b[39mcreateFragment(vertexSet, edgeSet, external)\n",
      "\u001b[1;31mNameError\u001b[0m: name 'createEdge' is not defined"
     ]
    }
   ],
   "source": [
    "from fgglib.fg.fragment import Fragment\n",
    "nounphrase = Fragment().buildFragment(\n",
    "    {'NP', 'childADJ', 'childNP'}, # V\n",
    "    [('NP_', {'NP', 'childADJ','childNP'})], # E\n",
    "    {'childADJ','childNP'}, # ext\n",
    ")"
   ]
  },
  {
   "cell_type": "markdown",
   "metadata": {},
   "source": [
    "## Conjunction"
   ]
  },
  {
   "cell_type": "markdown",
   "metadata": {},
   "source": [
    "Inference"
   ]
  },
  {
   "cell_type": "code",
   "execution_count": 6,
   "metadata": {},
   "outputs": [
    {
     "ename": "SyntaxError",
     "evalue": "unterminated string literal (detected at line 2) (3732480553.py, line 2)",
     "output_type": "error",
     "traceback": [
      "\u001b[1;36m  Input \u001b[1;32mIn [6]\u001b[1;36m\u001b[0m\n\u001b[1;33m    (\"edit the image: replace black circle with P1 to indicate its the )\u001b[0m\n\u001b[1;37m     ^\u001b[0m\n\u001b[1;31mSyntaxError\u001b[0m\u001b[1;31m:\u001b[0m unterminated string literal (detected at line 2)\n"
     ]
    }
   ],
   "source": [
    "\n",
    "From S it selects an edge e with a label X and a production rule N0 (S -> X) as the left part of the example shows. Next, it  Using that production rule, X is replaced with R. This process is repeated until no nonterminal edges are left.\n",
    "(\"edit the image: replace black circle with P1 to indicate its the )\n",
    "from: https://arxiv.org/pdf/2010.12071.pdf\n",
    "Translating Recursive Probabilistic Programs to Factor Graph Grammars\n",
    "DAVID CHIANG, University of Notre Dame, USA, CHUNG-CHIEH SHAN, Indiana University, USA"
   ]
  },
  {
   "cell_type": "code",
   "execution_count": null,
   "metadata": {},
   "outputs": [],
   "source": []
  },
  {
   "cell_type": "code",
   "execution_count": 11,
   "metadata": {},
   "outputs": [
    {
     "ename": "ModuleNotFoundError",
     "evalue": "No module named 'fgglib.fgg.fragment'",
     "output_type": "error",
     "traceback": [
      "\u001b[1;31m---------------------------------------------------------------------------\u001b[0m",
      "\u001b[1;31mModuleNotFoundError\u001b[0m                       Traceback (most recent call last)",
      "\u001b[1;32mc:\\Users\\joohe\\OneDrive\\Documents\\CAS\\AFLT\\Project\\AFLTProject\\fgglib\\presentation\\introduction.ipynb Cell 16\u001b[0m in \u001b[0;36m<cell line: 3>\u001b[1;34m()\u001b[0m\n\u001b[0;32m      <a href='vscode-notebook-cell:/c%3A/Users/joohe/OneDrive/Documents/CAS/AFLT/Project/AFLTProject/fgglib/presentation/introduction.ipynb#ch0000015?line=0'>1</a>\u001b[0m \u001b[39mfrom\u001b[39;00m \u001b[39mfgglib\u001b[39;00m\u001b[39m.\u001b[39;00m\u001b[39mfg\u001b[39;00m\u001b[39m.\u001b[39;00m\u001b[39mfactorgraph\u001b[39;00m \u001b[39mimport\u001b[39;00m Factorgraph\n\u001b[0;32m      <a href='vscode-notebook-cell:/c%3A/Users/joohe/OneDrive/Documents/CAS/AFLT/Project/AFLTProject/fgglib/presentation/introduction.ipynb#ch0000015?line=1'>2</a>\u001b[0m \u001b[39mfrom\u001b[39;00m \u001b[39mfgglib\u001b[39;00m\u001b[39m.\u001b[39;00m\u001b[39mbase\u001b[39;00m\u001b[39m.\u001b[39;00m\u001b[39msemiring\u001b[39;00m \u001b[39mimport\u001b[39;00m Real\n\u001b[1;32m----> <a href='vscode-notebook-cell:/c%3A/Users/joohe/OneDrive/Documents/CAS/AFLT/Project/AFLTProject/fgglib/presentation/introduction.ipynb#ch0000015?line=2'>3</a>\u001b[0m \u001b[39mfrom\u001b[39;00m \u001b[39mfgglib\u001b[39;00m\u001b[39m.\u001b[39;00m\u001b[39mfgg\u001b[39;00m\u001b[39m.\u001b[39;00m\u001b[39mfragment\u001b[39;00m \u001b[39mimport\u001b[39;00m Fragment\n\u001b[0;32m      <a href='vscode-notebook-cell:/c%3A/Users/joohe/OneDrive/Documents/CAS/AFLT/Project/AFLTProject/fgglib/presentation/introduction.ipynb#ch0000015?line=3'>4</a>\u001b[0m nounphrase \u001b[39m=\u001b[39m Fragment()\u001b[39m.\u001b[39mbuildFragment(\n\u001b[0;32m      <a href='vscode-notebook-cell:/c%3A/Users/joohe/OneDrive/Documents/CAS/AFLT/Project/AFLTProject/fgglib/presentation/introduction.ipynb#ch0000015?line=4'>5</a>\u001b[0m     {\u001b[39m'\u001b[39m\u001b[39mNP\u001b[39m\u001b[39m'\u001b[39m, \u001b[39m'\u001b[39m\u001b[39mchildADJ\u001b[39m\u001b[39m'\u001b[39m, \u001b[39m'\u001b[39m\u001b[39mchildNP\u001b[39m\u001b[39m'\u001b[39m}, \u001b[39m# V\u001b[39;00m\n\u001b[0;32m      <a href='vscode-notebook-cell:/c%3A/Users/joohe/OneDrive/Documents/CAS/AFLT/Project/AFLTProject/fgglib/presentation/introduction.ipynb#ch0000015?line=5'>6</a>\u001b[0m     [(\u001b[39m'\u001b[39m\u001b[39mNP_\u001b[39m\u001b[39m'\u001b[39m, {\u001b[39m'\u001b[39m\u001b[39mNP\u001b[39m\u001b[39m'\u001b[39m, \u001b[39m'\u001b[39m\u001b[39mchildADJ\u001b[39m\u001b[39m'\u001b[39m,\u001b[39m'\u001b[39m\u001b[39mchildNP\u001b[39m\u001b[39m'\u001b[39m})], \u001b[39m# E\u001b[39;00m\n\u001b[0;32m      <a href='vscode-notebook-cell:/c%3A/Users/joohe/OneDrive/Documents/CAS/AFLT/Project/AFLTProject/fgglib/presentation/introduction.ipynb#ch0000015?line=6'>7</a>\u001b[0m     {\u001b[39m'\u001b[39m\u001b[39mchildADJ\u001b[39m\u001b[39m'\u001b[39m,\u001b[39m'\u001b[39m\u001b[39mchildNP\u001b[39m\u001b[39m'\u001b[39m}, \u001b[39m# ext\u001b[39;00m\n\u001b[0;32m      <a href='vscode-notebook-cell:/c%3A/Users/joohe/OneDrive/Documents/CAS/AFLT/Project/AFLTProject/fgglib/presentation/introduction.ipynb#ch0000015?line=7'>8</a>\u001b[0m )\n",
      "\u001b[1;31mModuleNotFoundError\u001b[0m: No module named 'fgglib.fgg.fragment'"
     ]
    }
   ],
   "source": [
    "from fgglib.fg.factorgraph import Factorgraph\n",
    "from fgglib.base.semiring import Real\n",
    "from fgglib.fgg.fragment import Fragment\n",
    "\n",
    "\n",
    "# hmmFG = Factorgraph(Real).buildGraph(\n",
    "#     {'T0','T1','W2','T3','W4','T5','W6','T7'}, \n",
    "#     {'e0':{'T0'},'e1':{'T0','T1'},'e2':{'T1','W2'},'e3':{'T1','T3'},'e4':{'T3','W4'},'e5':{'T3','T5'},\n",
    "#      'e6':{'T5','W6'},'e7':{'T5','T7'},'e8':{'T7'}}, \n",
    "#     Real # R\n",
    "#     )\n",
    "\n"
   ]
  }
 ],
 "metadata": {
  "kernelspec": {
   "display_name": "Python 3.10.5 64-bit",
   "language": "python",
   "name": "python3"
  },
  "language_info": {
   "codemirror_mode": {
    "name": "ipython",
    "version": 3
   },
   "file_extension": ".py",
   "mimetype": "text/x-python",
   "name": "python",
   "nbconvert_exporter": "python",
   "pygments_lexer": "ipython3",
   "version": "3.10.5"
  },
  "orig_nbformat": 4,
  "vscode": {
   "interpreter": {
    "hash": "9d33e85d1e5722308f34e38028c08c259fb70020da3ada642bda3a3c28f02412"
   }
  }
 },
 "nbformat": 4,
 "nbformat_minor": 2
}
