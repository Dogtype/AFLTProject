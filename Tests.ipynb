{
 "cells": [
  {
   "cell_type": "code",
   "execution_count": 1,
   "id": "4254130e",
   "metadata": {},
   "outputs": [],
   "source": [
    "from fgglib.fg.factorgraph import Factorgraph\n",
    "from fgglib.fg.fragment import Fragment\n",
    "from fgglib.fg.vertex import Vertex, FGVertex\n",
    "from fgglib.fg.edge import Edge, FGEdge\n",
    "from fgglib.base.semiring import *\n",
    "from fgglib.autotesting.testenvironment import *\n",
    "from fgglib.fg.functions.discretedensity import DiscreteDensity\n",
    "from fgglib.fg.functions.tropicalmul import TropicalMul"
   ]
  },
  {
   "cell_type": "code",
   "execution_count": 2,
   "id": "20e07c3f",
   "metadata": {},
   "outputs": [],
   "source": [
    "spaFG2 = buildGraph(\n",
    "    ['X1','X2','X3','X4'],\n",
    "    {'fa':['X1','X2'],'fb':['X2','X3','X4']},\n",
    "    Tropical\n",
    ")\n",
    "\n",
    "d1 = VariableDomain(False)\n",
    "d1.set_content({1,2,3})\n",
    "d2 = VariableDomain(False)\n",
    "d2.set_content({4,5})\n",
    "d3 = VariableDomain(False)\n",
    "d3.set_content({6})\n",
    "d4 = VariableDomain(False)\n",
    "d4.set_content({7,8})\n",
    "spaFG2.get_vertex('X1').domain = d1\n",
    "spaFG2.get_vertex('X2').domain = d2\n",
    "spaFG2.get_vertex('X3').domain = d3\n",
    "spaFG2.get_vertex('X4').domain = d4\n",
    "\n",
    "spaFG2.set_function(spaFG2.get_edge('fa'), TropicalMul(2))\n",
    "spaFG2.set_function(spaFG2.get_edge('fb'), TropicalMul(3))"
   ]
  },
  {
   "cell_type": "code",
   "execution_count": 3,
   "id": "2344a0b7",
   "metadata": {
    "scrolled": true
   },
   "outputs": [
    {
     "data": {
      "text/plain": [
       "Tropical(22)"
      ]
     },
     "execution_count": 3,
     "metadata": {},
     "output_type": "execute_result"
    }
   ],
   "source": [
    "spaFG2.normalization_constant_()"
   ]
  },
  {
   "cell_type": "code",
   "execution_count": 4,
   "id": "325f67ef",
   "metadata": {},
   "outputs": [
    {
     "name": "stdout",
     "output_type": "stream",
     "text": [
      "X1 MARGINAL!!!!!\n",
      "1\n",
      "1\n",
      "X4 MARGINAL!!!!!\n",
      "1\n",
      "1\n",
      "X2 MARGINAL!!!!!\n",
      "1\n",
      "1\n",
      "1\n",
      "X3 MARGINAL!!!!!\n",
      "1\n",
      "1\n"
     ]
    }
   ],
   "source": [
    "marginals = spaFG2.sum_product()"
   ]
  },
  {
   "cell_type": "code",
   "execution_count": 5,
   "id": "3ff25d41",
   "metadata": {},
   "outputs": [],
   "source": [
    "f = marginals[spaFG2.get_vertex('X1')]"
   ]
  },
  {
   "cell_type": "code",
   "execution_count": 6,
   "id": "6f0f7d0a",
   "metadata": {},
   "outputs": [],
   "source": [
    "f1 = f.factor1"
   ]
  },
  {
   "cell_type": "code",
   "execution_count": 7,
   "id": "a84eab21",
   "metadata": {},
   "outputs": [
    {
     "data": {
      "text/plain": [
       "True"
      ]
     },
     "execution_count": 7,
     "metadata": {},
     "output_type": "execute_result"
    }
   ],
   "source": [
    "from fgglib.fg.factorfunction import FixedArgsFactorFunction\n",
    "isinstance(f1, FixedArgsFactorFunction)"
   ]
  },
  {
   "cell_type": "code",
   "execution_count": 8,
   "id": "8d894613",
   "metadata": {},
   "outputs": [
    {
     "data": {
      "text/plain": [
       "(None, 4)"
      ]
     },
     "execution_count": 8,
     "metadata": {},
     "output_type": "execute_result"
    }
   ],
   "source": [
    "f1.fixed_args"
   ]
  },
  {
   "cell_type": "code",
   "execution_count": 9,
   "id": "528fb4ec",
   "metadata": {},
   "outputs": [
    {
     "data": {
      "text/plain": [
       "(None, 5)"
      ]
     },
     "execution_count": 9,
     "metadata": {},
     "output_type": "execute_result"
    }
   ],
   "source": [
    "f2 = f.factor2\n",
    "f2.fixed_args"
   ]
  },
  {
   "cell_type": "code",
   "execution_count": 10,
   "id": "cfb19268",
   "metadata": {},
   "outputs": [
    {
     "data": {
      "text/plain": [
       "2"
      ]
     },
     "execution_count": 10,
     "metadata": {},
     "output_type": "execute_result"
    }
   ],
   "source": [
    "from fgglib.fg.factorfunction import NaiveProductFactorFunction\n",
    "f1.f.factor1.arg_num"
   ]
  },
  {
   "cell_type": "code",
   "execution_count": 21,
   "id": "e0e529f7",
   "metadata": {},
   "outputs": [],
   "source": [
    "f_prime = marginals[spaFG2.get_vertex(\"X2\")]"
   ]
  },
  {
   "cell_type": "code",
   "execution_count": 23,
   "id": "5e2ff4b3",
   "metadata": {},
   "outputs": [
    {
     "data": {
      "text/plain": [
       "Tropical(24)"
      ]
     },
     "execution_count": 23,
     "metadata": {},
     "output_type": "execute_result"
    }
   ],
   "source": [
    "f_prime.compute(5)"
   ]
  }
 ],
 "metadata": {
  "kernelspec": {
   "display_name": "Python 3 (ipykernel)",
   "language": "python",
   "name": "python3"
  },
  "language_info": {
   "codemirror_mode": {
    "name": "ipython",
    "version": 3
   },
   "file_extension": ".py",
   "mimetype": "text/x-python",
   "name": "python",
   "nbconvert_exporter": "python",
   "pygments_lexer": "ipython3",
   "version": "3.9.2"
  }
 },
 "nbformat": 4,
 "nbformat_minor": 5
}
